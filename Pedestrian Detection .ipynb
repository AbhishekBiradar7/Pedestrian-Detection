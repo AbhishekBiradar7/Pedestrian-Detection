{
 "cells": [
  {
   "cell_type": "code",
   "execution_count": 3,
   "id": "e6238b9a",
   "metadata": {},
   "outputs": [],
   "source": [
    "import cv2\n",
    "import imutils\n",
    "\n",
    "hog = cv2.HOGDescriptor()\n",
    "hog.setSVMDetector(cv2.HOGDescriptor_getDefaultPeopleDetector())\n",
    "\n",
    "image = cv2.imread('D:/Project/TEST/Test.jpg')\n",
    "\n",
    "image = imutils.resize(image,width=min(400,image.shape[1]))\n",
    "\n",
    "(regions,_) = hog.detectMultiScale(image,winStride=(4,4),padding=(4,4),scale=1.05)\n",
    "\n",
    "for (x,y,w,h) in regions:\n",
    "    cv2.rectangle(image,(x,y),(x+w,y+h),(0,0,255),2)\n",
    "    \n",
    "cv2.imshow(\"Image\",image)\n",
    "cv2.waitKey(0)\n",
    "\n",
    "cv2.destroyAllWindows()"
   ]
  },
  {
   "cell_type": "code",
   "execution_count": null,
   "id": "ff01eefe",
   "metadata": {},
   "outputs": [],
   "source": []
  }
 ],
 "metadata": {
  "kernelspec": {
   "display_name": "Python 3",
   "language": "python",
   "name": "python3"
  },
  "language_info": {
   "codemirror_mode": {
    "name": "ipython",
    "version": 3
   },
   "file_extension": ".py",
   "mimetype": "text/x-python",
   "name": "python",
   "nbconvert_exporter": "python",
   "pygments_lexer": "ipython3",
   "version": "3.7.9"
  }
 },
 "nbformat": 4,
 "nbformat_minor": 5
}
